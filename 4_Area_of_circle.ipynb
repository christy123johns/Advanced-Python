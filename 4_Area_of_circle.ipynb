{
  "nbformat": 4,
  "nbformat_minor": 0,
  "metadata": {
    "colab": {
      "name": "4.Area of circle.ipynb",
      "provenance": [],
      "collapsed_sections": []
    },
    "kernelspec": {
      "name": "python3",
      "display_name": "Python 3"
    },
    "language_info": {
      "name": "python"
    }
  },
  "cells": [
    {
      "cell_type": "markdown",
      "source": [
        "# Area"
      ],
      "metadata": {
        "id": "bodQWZVDg8gg"
      }
    },
    {
      "cell_type": "code",
      "source": [
        "def findArea(r):\n",
        "    PI = 3.142\n",
        "    return PI * (r*r);\n",
        "  \n",
        "# Driver method\n",
        "print(\"Area is %.2f\" % findArea(int(input(\"enter the number\"))));"
      ],
      "metadata": {
        "colab": {
          "base_uri": "https://localhost:8080/"
        },
        "id": "3TCjrqZ5teH6",
        "outputId": "d924b2d3-4bbd-4045-fffd-cc4f2a1f1834"
      },
      "execution_count": 142,
      "outputs": [
        {
          "output_type": "stream",
          "name": "stdout",
          "text": [
            "enter the number4\n",
            "Area is 50.27\n"
          ]
        }
      ]
    },
    {
      "cell_type": "markdown",
      "source": [
        "### **or**"
      ],
      "metadata": {
        "id": "OmR23nXQuxfH"
      }
    },
    {
      "cell_type": "code",
      "source": [
        "PI = 3.14\n",
        "r = float(input(\"Enter the radius of a circle:\"))\n",
        "area = PI * r * r\n",
        "print(\"Area of a circle = %.2f\" %area)"
      ],
      "metadata": {
        "colab": {
          "base_uri": "https://localhost:8080/"
        },
        "id": "RxcVnKijuIzH",
        "outputId": "46a11b57-6a2d-4605-980b-76d14f665711"
      },
      "execution_count": 143,
      "outputs": [
        {
          "output_type": "stream",
          "name": "stdout",
          "text": [
            "Enter the radius of a circle:4\n",
            "Area of a circle = 50.24\n"
          ]
        }
      ]
    },
    {
      "cell_type": "code",
      "source": [
        "PI = 3.14\n",
        "r = float(input('Enter the radius of a circle: '))\n",
        "area = PI * r * r\n",
        "circumference = 2 * PI * r\n",
        "print(\" Area Of a Circle = %.2f\" %area)\n",
        "print(\" Circumference Of a Circle = %.2f\" %circumference)"
      ],
      "metadata": {
        "colab": {
          "base_uri": "https://localhost:8080/"
        },
        "id": "tA9LVLjCuf0i",
        "outputId": "9a9656dc-bd07-4f0e-e02e-9ee533df7536"
      },
      "execution_count": 144,
      "outputs": [
        {
          "output_type": "stream",
          "name": "stdout",
          "text": [
            "Enter the radius of a circle: 4\n",
            " Area Of a Circle = 50.24\n",
            " Circumference Of a Circle = 25.12\n"
          ]
        }
      ]
    },
    {
      "cell_type": "code",
      "source": [
        "import math\n",
        "r = float(input('Enter the radius of a circle: '))\n",
        "area = math.pi * r * r\n",
        "circumference = 2 * math.pi * r\n",
        "print(\" Area Of a Circle = %.2f\" %area)\n",
        "print(\" Circumference Of a Circle = %.2f\" %circumference)"
      ],
      "metadata": {
        "colab": {
          "base_uri": "https://localhost:8080/"
        },
        "id": "iHllcKJgu58Z",
        "outputId": "9eabe0eb-63ae-4be5-f1c4-060b90c8d0b2"
      },
      "execution_count": 145,
      "outputs": [
        {
          "output_type": "stream",
          "name": "stdout",
          "text": [
            " Please Enter the radius of a circle: 4\n",
            " Area Of a Circle = 50.27\n",
            " Circumference Of a Circle = 25.13\n"
          ]
        }
      ]
    }
  ]
}