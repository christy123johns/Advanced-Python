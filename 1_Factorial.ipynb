{
  "nbformat": 4,
  "nbformat_minor": 0,
  "metadata": {
    "colab": {
      "name": "1. Factorial.ipynb",
      "provenance": [],
      "collapsed_sections": []
    },
    "kernelspec": {
      "name": "python3",
      "display_name": "Python 3"
    },
    "language_info": {
      "name": "python"
    }
  },
  "cells": [
    {
      "cell_type": "code",
      "source": [
        "def factorial(n):\n",
        "  return 1 if(n==1 or n==0) else n*factorial(n-1);\n",
        "\n",
        "#driver code\n",
        "\n",
        "num = int(input(\"number: \")) \n",
        "print(\"Factorial of {0} is {1}\".format(num,factorial(num)))"
      ],
      "metadata": {
        "colab": {
          "base_uri": "https://localhost:8080/"
        },
        "id": "Wqc3YiFIoTkW",
        "outputId": "4c6861f0-5ddf-4633-c496-a026a6a59a64"
      },
      "execution_count": 119,
      "outputs": [
        {
          "output_type": "stream",
          "name": "stdout",
          "text": [
            "number: 4\n",
            "Factorial of 4 is 24\n"
          ]
        }
      ]
    }
  ]
}