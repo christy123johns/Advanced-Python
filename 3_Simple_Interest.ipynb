{
  "nbformat": 4,
  "nbformat_minor": 0,
  "metadata": {
    "colab": {
      "name": "3. Simple_Interest.ipynb",
      "provenance": [],
      "collapsed_sections": []
    },
    "kernelspec": {
      "name": "python3",
      "display_name": "Python 3"
    },
    "language_info": {
      "name": "python"
    }
  },
  "cells": [
    {
      "cell_type": "markdown",
      "source": [
        "# Simple Interest"
      ],
      "metadata": {
        "id": "bodQWZVDg8gg"
      }
    },
    {
      "cell_type": "code",
      "source": [
        "#to find the simple intrest\n",
        "\n",
        "p=input('Principle:')\n",
        "n=input('no of years:')\n",
        "r=input('rate of interest:')\n",
        "multiply=float(p)*float(n)*float(r)/100\n",
        "multiply"
      ],
      "metadata": {
        "colab": {
          "base_uri": "https://localhost:8080/"
        },
        "id": "q0kbCgtFA9QQ",
        "outputId": "c0373346-3171-4a81-b26b-9efc535712d3"
      },
      "execution_count": 136,
      "outputs": [
        {
          "name": "stdout",
          "output_type": "stream",
          "text": [
            "Principle:23000\n",
            "no of years:2\n",
            "rate of interest:10\n"
          ]
        },
        {
          "output_type": "execute_result",
          "data": {
            "text/plain": [
              "4600.0"
            ]
          },
          "metadata": {},
          "execution_count": 136
        }
      ]
    },
    {
      "cell_type": "markdown",
      "source": [
        "**Or**"
      ],
      "metadata": {
        "id": "-d-boAG5shz9"
      }
    },
    {
      "cell_type": "code",
      "source": [
        "#defining fuction simple interest and finding the simple interest\n",
        "#intendation means space between the codes\n",
        "def simple_interest(p,t, r):\n",
        "  si=(p*n*r)/100\n",
        "\n",
        "  print('The simple Interest is, si')\n",
        "  return si\n",
        "\n",
        "#driver code\n",
        "p=int(input('Principle:'))\n",
        "n=int(input('no of years:'))\n",
        "r=int(input('rate of interest:'))\n",
        "#function calling\n",
        "simple_interest(p, n, r)"
      ],
      "metadata": {
        "colab": {
          "base_uri": "https://localhost:8080/"
        },
        "id": "BAbxIkWIscwk",
        "outputId": "9adc18e6-2985-4a1d-96e6-542053e5d963"
      },
      "execution_count": 137,
      "outputs": [
        {
          "output_type": "stream",
          "name": "stdout",
          "text": [
            "Principle:23000\n",
            "no of years:2\n",
            "rate of interest:10\n",
            "The simple Interest is, si\n"
          ]
        },
        {
          "output_type": "execute_result",
          "data": {
            "text/plain": [
              "4600.0"
            ]
          },
          "metadata": {},
          "execution_count": 137
        }
      ]
    }
  ]
}