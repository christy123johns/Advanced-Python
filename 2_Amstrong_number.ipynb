{
  "nbformat": 4,
  "nbformat_minor": 0,
  "metadata": {
    "colab": {
      "name": "2. Amstrong_number.ipynb",
      "provenance": [],
      "collapsed_sections": []
    },
    "kernelspec": {
      "name": "python3",
      "display_name": "Python 3"
    },
    "language_info": {
      "name": "python"
    }
  },
  "cells": [
    {
      "cell_type": "markdown",
      "source": [
        "## **Amstrong number**"
      ],
      "metadata": {
        "id": "9t7jj59XqkU-"
      }
    },
    {
      "cell_type": "markdown",
      "source": [
        "A positive integer is called an Armstrong number of order n if\n",
        "\n",
        "**abcd... = an + bn + cn + dn + ...**\n",
        "\n",
        "For example:\n",
        "\n",
        "153 = 1*1*1 + 5*5*5 + 3*3*3  // 153 is an Armstrong number."
      ],
      "metadata": {
        "id": "PeA4MbRCqnWt"
      }
    },
    {
      "cell_type": "code",
      "source": [
        "# Python program to check if the number is an Armstrong number or not\n",
        "\n",
        "#153 = 1*1*1 + 5*5*5 + 3*3*3  // 153 is an Armstrong number.\n",
        "\n",
        "# take input from the user\n",
        "num = int(input(\"Enter a number: \"))\n",
        "\n",
        "# initialize sum\n",
        "sum = 0\n",
        "\n",
        "# find the sum of the cube of each digit\n",
        "temp = num\n",
        "while temp > 0:\n",
        "   digit = temp % 10\n",
        "   sum += digit ** 3\n",
        "   temp //= 10\n",
        "\n",
        "# display the result\n",
        "if num == sum:\n",
        "   print(num,\"is an Armstrong number\")\n",
        "else:\n",
        "   print(num,\"is not an Armstrong number\")"
      ],
      "metadata": {
        "colab": {
          "base_uri": "https://localhost:8080/"
        },
        "id": "DmhHaAuIqgNR",
        "outputId": "cc9f1ea1-5f9a-43f2-989c-32568c616fcf"
      },
      "execution_count": 131,
      "outputs": [
        {
          "output_type": "stream",
          "name": "stdout",
          "text": [
            "Enter a number: 153\n",
            "153 is an Armstrong number\n"
          ]
        }
      ]
    },
    {
      "cell_type": "code",
      "source": [
        "num = int(input(\"Enter a number: \"))\n",
        "\n",
        "# initialize sum\n",
        "sum = 0\n",
        "\n",
        "# find the sum of the cube of each digit\n",
        "temp = num\n",
        "while temp > 0:\n",
        "   digit = temp % 10\n",
        "   sum += digit ** 3\n",
        "   temp //= 10\n",
        "\n",
        "# display the result\n",
        "if num == sum:\n",
        "   print(num,\"is an Armstrong number\")\n",
        "else:\n",
        "   print(num,\"is not an Armstrong number\")"
      ],
      "metadata": {
        "colab": {
          "base_uri": "https://localhost:8080/"
        },
        "id": "9AzRcTARrA5G",
        "outputId": "a0a0f165-bcd8-4715-aa36-825ac009fc87"
      },
      "execution_count": 132,
      "outputs": [
        {
          "output_type": "stream",
          "name": "stdout",
          "text": [
            "Enter a number: 540\n",
            "540 is not an Armstrong number\n"
          ]
        }
      ]
    },
    {
      "cell_type": "markdown",
      "source": [
        "## **OR**"
      ],
      "metadata": {
        "id": "W528IAKaqDBQ"
      }
    },
    {
      "cell_type": "code",
      "source": [
        "#Amstrong number\n",
        "\n",
        "#to find reminder we use looping format, when we need to repate code we use loop\n",
        "#driver code(this is the main function), in Amstrong we need to import this fuction using defining\n",
        "#2 types fuction bulit in fuction and usered fuction inside python\n",
        "\n",
        "#== is logical operator so we will get true or false\n",
        "\n",
        "def power(x,y):\n",
        "  if y==0:\n",
        "    return 1\n",
        "  if y % 2== 0:\n",
        "    return power(x,y //2)* power(x,y//2)\n",
        "\n",
        "  return x * power(x,y//2)* power(x,y//2)\n",
        "\n",
        "def order(x):\n",
        "\n",
        "#codes under while loop their should be 3 intent\n",
        "  n=0\n",
        "  while(x!=0):\n",
        "    n=n+1\n",
        "    x=x//10\n",
        "  return n\n",
        "def isArmstrong(x):\n",
        "\n",
        "  n=order(x)\n",
        "  temp = x\n",
        "  sum1 =0\n",
        "\n",
        "  while (temp!=0):\n",
        "    r=temp% 10\n",
        "    sum1 =sum1+power(r,n)\n",
        "    temp = temp//10\n",
        "\n",
        "#If condition Satisfies\n",
        "  return(sum1==x)\n",
        "\n",
        "#Driver code\n",
        "x=int(input('Enter the Number'))\n",
        "print(isArmstrong(x))"
      ],
      "metadata": {
        "colab": {
          "base_uri": "https://localhost:8080/"
        },
        "id": "WTYOZDpapsP_",
        "outputId": "faca1b8b-2f8b-4393-8270-b2857bc2a6b3"
      },
      "execution_count": 133,
      "outputs": [
        {
          "output_type": "stream",
          "name": "stdout",
          "text": [
            "Enter the Number153\n",
            "True\n"
          ]
        }
      ]
    }
  ]
}